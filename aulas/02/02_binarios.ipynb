{
 "cells": [
  {
   "cell_type": "code",
   "execution_count": 1,
   "id": "f1f2adb4",
   "metadata": {},
   "outputs": [
    {
     "name": "stdout",
     "output_type": "stream",
     "text": [
      "Requirement already satisfied: pillow in /Users/henriquemota/Workspace/estacio/rad/.venv/lib/python3.12/site-packages (11.1.0)\n",
      "\n",
      "\u001b[1m[\u001b[0m\u001b[34;49mnotice\u001b[0m\u001b[1;39;49m]\u001b[0m\u001b[39;49m A new release of pip is available: \u001b[0m\u001b[31;49m24.2\u001b[0m\u001b[39;49m -> \u001b[0m\u001b[32;49m25.0.1\u001b[0m\n",
      "\u001b[1m[\u001b[0m\u001b[34;49mnotice\u001b[0m\u001b[1;39;49m]\u001b[0m\u001b[39;49m To update, run: \u001b[0m\u001b[32;49mpip install --upgrade pip\u001b[0m\n",
      "Requirement already satisfied: numpy in /Users/henriquemota/Workspace/estacio/rad/.venv/lib/python3.12/site-packages (2.2.4)\n",
      "\n",
      "\u001b[1m[\u001b[0m\u001b[34;49mnotice\u001b[0m\u001b[1;39;49m]\u001b[0m\u001b[39;49m A new release of pip is available: \u001b[0m\u001b[31;49m24.2\u001b[0m\u001b[39;49m -> \u001b[0m\u001b[32;49m25.0.1\u001b[0m\n",
      "\u001b[1m[\u001b[0m\u001b[34;49mnotice\u001b[0m\u001b[1;39;49m]\u001b[0m\u001b[39;49m To update, run: \u001b[0m\u001b[32;49mpip install --upgrade pip\u001b[0m\n"
     ]
    }
   ],
   "source": [
    "!pip install pillow\n",
    "!pip install numpy"
   ]
  },
  {
   "cell_type": "code",
   "execution_count": 2,
   "id": "f8fdea2c",
   "metadata": {},
   "outputs": [],
   "source": [
    "from PIL import Image\n",
    "import numpy as np"
   ]
  },
  {
   "cell_type": "code",
   "execution_count": 4,
   "id": "830ca783",
   "metadata": {},
   "outputs": [],
   "source": [
    "# Carregar a imagem original\n",
    "img = Image.open(\"logo.png\")\n",
    "img.show()\n",
    "\n",
    "# Converter a imagem em dados binários\n",
    "img_data = np.array(img)\n",
    "binary_data = img_data.tobytes()\n",
    "\n",
    "# Salvar os dados binários em um arquivo\n",
    "with open(\"original_img.bin\", \"wb\") as file:\n",
    "    file.write(binary_data)\n",
    "\n",
    "# Copiar o arquivo binário\n",
    "with open(\"original_img.bin\", \"rb\") as original_file:\n",
    "    data = original_file.read()\n",
    "\n",
    "with open(\"copy_img.bin\", \"wb\") as copy_file:\n",
    "    copy_file.write(data)\n",
    "\n",
    "# Manipulação dos dados do arquivo binário cópia\n",
    "# Exemplo: Inverter os bytes\n",
    "with open(\"copy_img.bin\", \"rb\") as file:\n",
    "    data = bytearray(file.read())\n",
    "\n",
    "# Inverte todos os bytes\n",
    "data = data[::-1]\n",
    "\n",
    "with open(\"copy_img.bin\", \"wb\") as file:\n",
    "    file.write(data)\n",
    "\n",
    "# Carregar e mostrar a imagem manipulada\n",
    "modified_data = np.frombuffer(data, dtype=np.uint8).reshape(img_data.shape)\n",
    "modified_img = Image.fromarray(modified_data)\n",
    "modified_img.show()"
   ]
  }
 ],
 "metadata": {
  "kernelspec": {
   "display_name": ".venv",
   "language": "python",
   "name": "python3"
  },
  "language_info": {
   "codemirror_mode": {
    "name": "ipython",
    "version": 3
   },
   "file_extension": ".py",
   "mimetype": "text/x-python",
   "name": "python",
   "nbconvert_exporter": "python",
   "pygments_lexer": "ipython3",
   "version": "3.12.7"
  }
 },
 "nbformat": 4,
 "nbformat_minor": 5
}
