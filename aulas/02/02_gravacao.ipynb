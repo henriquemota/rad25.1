{
 "cells": [
  {
   "cell_type": "code",
   "execution_count": 1,
   "metadata": {},
   "outputs": [],
   "source": [
    "from os import path, getcwd"
   ]
  },
  {
   "cell_type": "code",
   "execution_count": 13,
   "metadata": {},
   "outputs": [
    {
     "name": "stdout",
     "output_type": "stream",
     "text": [
      "/Users/henriquemota/Workspace/estacio/rad/aulas/02/../../arquivos/teste1.txt\n",
      "/Users/henriquemota/Workspace/estacio/rad/arquivos/teste1.txt\n"
     ]
    }
   ],
   "source": [
    "file_path = path.join(getcwd(), '..', '..', 'arquivos', 'teste1.txt')\n",
    "print(file_path)\n",
    "print(path.abspath(file_path))"
   ]
  },
  {
   "cell_type": "code",
   "execution_count": null,
   "metadata": {},
   "outputs": [
    {
     "name": "stdout",
     "output_type": "stream",
     "text": [
      "feito\n"
     ]
    }
   ],
   "source": [
    "# substitui o conteúdo do arquivo existente\n",
    "lines = []\n",
    "lines.append(\"minha primeira linha\\n\")\n",
    "lines.append(\"minha segunda linha\\n\")\n",
    "\n",
    "with open(file_path, \"w\") as arquivo:\n",
    "  arquivo.writelines(lines)\n",
    "  print(\"feito\")"
   ]
  },
  {
   "cell_type": "code",
   "execution_count": null,
   "metadata": {},
   "outputs": [],
   "source": [
    "# atualiza o conteúdo do arquivo existente\n",
    "lines = []\n",
    "lines.append(\"minha primeira linha\\n\")\n",
    "lines.append(\"minha segunda linha\\n\")\n",
    "\n",
    "with open(file_path, \"a\") as arquivo:\n",
    "  arquivo.writelines(lines)\n",
    "  print(\"feito\")"
   ]
  },
  {
   "cell_type": "code",
   "execution_count": null,
   "metadata": {},
   "outputs": [],
   "source": [
    "# retorna um errro pois tenta criar o arquivo \n",
    "# mas o arquivo ja existe\n",
    "lines = []\n",
    "lines.append(\"minha primeira linha\\n\")\n",
    "lines.append(\"minha segunda linha\\n\")\n",
    "\n",
    "with open(file_path, \"x\") as arquivo:\n",
    "  arquivo.writelines(lines)\n",
    "  print(\"feito\")"
   ]
  }
 ],
 "metadata": {
  "kernelspec": {
   "display_name": ".venv",
   "language": "python",
   "name": "python3"
  },
  "language_info": {
   "codemirror_mode": {
    "name": "ipython",
    "version": 3
   },
   "file_extension": ".py",
   "mimetype": "text/x-python",
   "name": "python",
   "nbconvert_exporter": "python",
   "pygments_lexer": "ipython3",
   "version": "3.12.7"
  }
 },
 "nbformat": 4,
 "nbformat_minor": 2
}
