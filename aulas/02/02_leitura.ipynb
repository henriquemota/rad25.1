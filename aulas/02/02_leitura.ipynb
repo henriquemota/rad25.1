{
 "cells": [
  {
   "cell_type": "code",
   "execution_count": 1,
   "metadata": {},
   "outputs": [],
   "source": [
    "from os import path, getcwd"
   ]
  },
  {
   "cell_type": "code",
   "execution_count": 8,
   "metadata": {},
   "outputs": [
    {
     "name": "stdout",
     "output_type": "stream",
     "text": [
      "../../arquivos/teste.txt\n"
     ]
    }
   ],
   "source": [
    "# cria uma path válida para o SO\n",
    "file_path  = path.join('..', '..', 'arquivos', 'teste.txt')\n",
    "print(file_path)"
   ]
  },
  {
   "cell_type": "code",
   "execution_count": null,
   "metadata": {},
   "outputs": [
    {
     "name": "stdout",
     "output_type": "stream",
     "text": [
      "../../arquivos/teste.txt r UTF-8 False\n",
      "True\n"
     ]
    }
   ],
   "source": [
    "# você fica na responsabilidade de abrir e fechar o arquivo\n",
    "file = open(file_path)\n",
    "print(file.name, file.mode, file.encoding, file.closed)\n",
    "file.close()\n",
    "print(file.closed)"
   ]
  },
  {
   "cell_type": "code",
   "execution_count": null,
   "metadata": {},
   "outputs": [
    {
     "name": "stdout",
     "output_type": "stream",
     "text": [
      "../../arquivos/teste.txt r UTF-8 False\n",
      "True\n"
     ]
    }
   ],
   "source": [
    "# boa prática para manipulação de arquivos\n",
    "with open(file_path) as arquivo:\n",
    "  print(arquivo.name, arquivo.mode, arquivo.encoding, arquivo.closed)\n",
    "\n",
    "print(arquivo.closed)"
   ]
  }
 ],
 "metadata": {
  "kernelspec": {
   "display_name": ".venv",
   "language": "python",
   "name": "python3"
  },
  "language_info": {
   "codemirror_mode": {
    "name": "ipython",
    "version": 3
   },
   "file_extension": ".py",
   "mimetype": "text/x-python",
   "name": "python",
   "nbconvert_exporter": "python",
   "pygments_lexer": "ipython3",
   "version": "3.12.7"
  }
 },
 "nbformat": 4,
 "nbformat_minor": 2
}
