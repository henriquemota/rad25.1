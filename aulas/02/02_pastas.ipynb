{
 "cells": [
  {
   "cell_type": "code",
   "execution_count": null,
   "metadata": {},
   "outputs": [],
   "source": [
    "# importacao das bibliotecas\n",
    "from os import getcwd, listdir"
   ]
  },
  {
   "cell_type": "code",
   "execution_count": null,
   "metadata": {},
   "outputs": [],
   "source": [
    "# não usar \n",
    "home_path = \"/Users/henriquemota/Workspace/estacio/rad\"\n",
    "aula02_path = home_path + \"/aulas/02\"\n",
    "\n",
    "# sempre usar\n",
    "aula02_os_path = getcwd()"
   ]
  },
  {
   "cell_type": "code",
   "execution_count": 8,
   "metadata": {},
   "outputs": [
    {
     "name": "stdout",
     "output_type": "stream",
     "text": [
      "/Users/henriquemota/Workspace/estacio/rad/aulas/02\n",
      "/Users/henriquemota/Workspace/estacio/rad/aulas/02\n"
     ]
    }
   ],
   "source": [
    "print(aula02_path)\n",
    "print(aula02_os_path)"
   ]
  },
  {
   "cell_type": "code",
   "execution_count": null,
   "metadata": {},
   "outputs": [],
   "source": [
    "# listagem dos arquivos\n",
    "files = listdir(aula02_os_path)"
   ]
  },
  {
   "cell_type": "code",
   "execution_count": 32,
   "metadata": {},
   "outputs": [
    {
     "name": "stdout",
     "output_type": "stream",
     "text": [
      "teste.txt teste txt\n",
      "02_pastas.ipynb 02_pastas ipynb\n",
      "teste2.txt teste2 txt\n",
      "02.ipynb 02 ipynb\n",
      "aula 02 - manipulacao de arquivos.pdf aula 02 - manipulacao de arquivos pdf\n"
     ]
    }
   ],
   "source": [
    "# lista o conteudo do diretório\n",
    "for file in files:\n",
    "  splited = file.split('.')\n",
    "  print(file, splited[0], splited[1])"
   ]
  },
  {
   "cell_type": "code",
   "execution_count": 42,
   "metadata": {},
   "outputs": [],
   "source": [
    "#  list comprehension ou expressão compacta de loop\n",
    "arquivos_txt = [arquivo for arquivo in listdir(aula02_os_path) if arquivo.endswith(\".txt\")]"
   ]
  },
  {
   "cell_type": "code",
   "execution_count": 43,
   "metadata": {},
   "outputs": [
    {
     "name": "stdout",
     "output_type": "stream",
     "text": [
      "['teste.txt', 'teste2.txt']\n"
     ]
    }
   ],
   "source": [
    "# imprime a lista de arquivos\n",
    "print(arquivos_txt)"
   ]
  },
  {
   "cell_type": "code",
   "execution_count": null,
   "metadata": {},
   "outputs": [
    {
     "name": "stdout",
     "output_type": "stream",
     "text": [
      "Python\n",
      "Julia\n",
      "Java\n",
      "JScript\n",
      "C\n",
      "C++\n",
      "Rust\n",
      "Matlab\n",
      "SQL\n",
      "R\n",
      "\n",
      "SQL\n",
      "R\n",
      "Portugol\n",
      "ADA\n",
      "C#\n"
     ]
    }
   ],
   "source": [
    "# realiza a leitura de todas as linhas do arquivo\n",
    "linhas = ''\n",
    "for arquivo in arquivos_txt:\n",
    "  arq = open(arquivo, \"r\")\n",
    "  linhas = arq.readlines()\n",
    "  arq.close()\n",
    "  for linha in linhas:\n",
    "    print(linha.strip())"
   ]
  }
 ],
 "metadata": {
  "kernelspec": {
   "display_name": ".venv",
   "language": "python",
   "name": "python3"
  },
  "language_info": {
   "codemirror_mode": {
    "name": "ipython",
    "version": 3
   },
   "file_extension": ".py",
   "mimetype": "text/x-python",
   "name": "python",
   "nbconvert_exporter": "python",
   "pygments_lexer": "ipython3",
   "version": "3.12.7"
  }
 },
 "nbformat": 4,
 "nbformat_minor": 2
}
