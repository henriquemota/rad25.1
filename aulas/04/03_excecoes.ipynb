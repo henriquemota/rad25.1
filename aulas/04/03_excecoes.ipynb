{
 "cells": [
  {
   "cell_type": "code",
   "execution_count": 19,
   "id": "4069f962",
   "metadata": {},
   "outputs": [
    {
     "name": "stdout",
     "output_type": "stream",
     "text": [
      "arquivo não localizado.\n"
     ]
    }
   ],
   "source": [
    "# ler todo conteudo do arquivo data.txt\n",
    "from os import path\n",
    "caminho = path.join('dataf', 'data.txt')\n",
    "# excecao de nao localizacao\n",
    "try:\n",
    "    with open(caminho) as file:\n",
    "        dados = file.read()\n",
    "except FileNotFoundError:\n",
    "    print(\"arquivo não localizado.\")\n",
    "except Exception:\n",
    "    print(\"erros ocorreram.\")"
   ]
  },
  {
   "cell_type": "code",
   "execution_count": null,
   "id": "7cd98ad6",
   "metadata": {},
   "outputs": [
    {
     "name": "stdout",
     "output_type": "stream",
     "text": [
      "erro de permissão do arquivo\n"
     ]
    }
   ],
   "source": [
    "# ler todo conteudo do arquivo data_blocked.txt\n",
    "from os import path\n",
    "caminho = path.join('data', 'data_blocked.txt')\n",
    "\n",
    "# excecao de permissao\n",
    "try:\n",
    "    with open(caminho, \"a\") as file:\n",
    "        # dados = file.writelines([\"nova linha\", \"uma outra nova linha\"])\n",
    "        dados = file.read()\n",
    "except PermissionError:\n",
    "    print(\"erro de permissão do arquivo\")\n",
    "except FileNotFoundError:\n",
    "    print(\"arquivo não localizado\")\n",
    "except Exception:\n",
    "    print(\"erros ocorreram\")"
   ]
  },
  {
   "cell_type": "code",
   "execution_count": 29,
   "id": "aa199291",
   "metadata": {},
   "outputs": [
    {
     "name": "stdout",
     "output_type": "stream",
     "text": [
      "erro de existência do arquivo\n"
     ]
    }
   ],
   "source": [
    "# ler todo conteudo do arquivo data_blocked.txt\n",
    "from os import path\n",
    "caminho = path.join('data', 'data_blocked.txt')\n",
    "\n",
    "# excecao de permissao\n",
    "try:\n",
    "    with open(caminho, \"x\") as file:\n",
    "        dados = file.writelines([\"nova linha\", \"uma outra nova linha\"])\n",
    "except FileExistsError:\n",
    "    print(\"erro de existência do arquivo\")\n",
    "except PermissionError:\n",
    "    print(\"erro de permissão do arquivo\")\n",
    "except FileNotFoundError:\n",
    "    print(\"arquivo não localizado\")\n",
    "except Exception:\n",
    "    print(\"erros ocorreram\")"
   ]
  }
 ],
 "metadata": {
  "kernelspec": {
   "display_name": ".venv",
   "language": "python",
   "name": "python3"
  },
  "language_info": {
   "codemirror_mode": {
    "name": "ipython",
    "version": 3
   },
   "file_extension": ".py",
   "mimetype": "text/x-python",
   "name": "python",
   "nbconvert_exporter": "python",
   "pygments_lexer": "ipython3",
   "version": "3.13.3"
  }
 },
 "nbformat": 4,
 "nbformat_minor": 5
}
