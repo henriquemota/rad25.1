{
 "cells": [
  {
   "cell_type": "code",
   "execution_count": null,
   "id": "91504191",
   "metadata": {},
   "outputs": [
    {
     "name": "stdout",
     "output_type": "stream",
     "text": [
      "Erro\n"
     ]
    }
   ],
   "source": [
    "# trabalhando com manipulacao de arquivos\n",
    "from os import path, mkdir\n",
    "\n",
    "# forma compacta de criar listas\n",
    "try:\n",
    "\n",
    "    arquivos = [path.join(\"data\", f\"{i}.txt\") for i in range(1,11)]\n",
    "    for arquivo in arquivos:\n",
    "        with open(arquivo, \"x\") as f:\n",
    "            f.write(\"...\")\n",
    "    print(\"arquivos criados com sucesso\")\n",
    "except:\n",
    "    print(\"Erro\")"
   ]
  }
 ],
 "metadata": {
  "kernelspec": {
   "display_name": ".venv",
   "language": "python",
   "name": "python3"
  },
  "language_info": {
   "codemirror_mode": {
    "name": "ipython",
    "version": 3
   },
   "file_extension": ".py",
   "mimetype": "text/x-python",
   "name": "python",
   "nbconvert_exporter": "python",
   "pygments_lexer": "ipython3",
   "version": "3.13.3"
  }
 },
 "nbformat": 4,
 "nbformat_minor": 5
}
