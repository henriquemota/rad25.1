{
 "cells": [
  {
   "cell_type": "code",
   "execution_count": null,
   "id": "ae70d298",
   "metadata": {},
   "outputs": [
    {
     "name": "stdout",
     "output_type": "stream",
     "text": [
      "0\n"
     ]
    }
   ],
   "source": [
    "import sqlite3\n",
    "from os import path\n",
    "\n",
    "con = sqlite3.connect(path.join(\"data\", \"database.db\"))\n",
    "print(con.total_changes)"
   ]
  },
  {
   "cell_type": "code",
   "execution_count": null,
   "id": "9317ef7a",
   "metadata": {},
   "outputs": [
    {
     "name": "stdout",
     "output_type": "stream",
     "text": [
      "0\n"
     ]
    }
   ],
   "source": [
    "cursor = con.cursor()\n",
    "cursor.executescript(\"\"\"\n",
    "    drop table if exists pessoas;\n",
    "                     /*\n",
    "    create table if not exists pessoas (\n",
    "        id integer primary keyt,\n",
    "        nome text         \n",
    "    );  \n",
    "                     */\n",
    "\"\"\")\n",
    "\n",
    "con.commit()\n",
    "print(con.total_changes)"
   ]
  }
 ],
 "metadata": {
  "kernelspec": {
   "display_name": ".venv",
   "language": "python",
   "name": "python3"
  },
  "language_info": {
   "codemirror_mode": {
    "name": "ipython",
    "version": 3
   },
   "file_extension": ".py",
   "mimetype": "text/x-python",
   "name": "python",
   "nbconvert_exporter": "python",
   "pygments_lexer": "ipython3",
   "version": "3.13.3"
  }
 },
 "nbformat": 4,
 "nbformat_minor": 5
}
