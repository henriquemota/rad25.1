{
 "cells": [
  {
   "cell_type": "code",
   "execution_count": null,
   "id": "ed576683",
   "metadata": {},
   "outputs": [
    {
     "name": "stdout",
     "output_type": "stream",
     "text": [
      "Collecting PyMySQL\n",
      "  Downloading PyMySQL-1.1.1-py3-none-any.whl.metadata (4.4 kB)\n",
      "Downloading PyMySQL-1.1.1-py3-none-any.whl (44 kB)\n",
      "Installing collected packages: PyMySQL\n",
      "Successfully installed PyMySQL-1.1.1\n"
     ]
    }
   ],
   "source": [
    "# psycopg2\n",
    "# MySQLclient, PyMySQL\n",
    "# sqlite3 \n",
    "\n",
    "# !pip install psycopg2\n",
    "# !pip install PyMySQL"
   ]
  },
  {
   "cell_type": "code",
   "execution_count": 3,
   "id": "dca8342c",
   "metadata": {},
   "outputs": [],
   "source": [
    "import sqlite3 as conector\n",
    "from os import path\n",
    "\n",
    "caminho_banco = path.join(\"data\", \"database.db\")\n",
    "conexao = conector.connect(caminho_banco)\n",
    "\n",
    "cursor = conexao.cursor()\n",
    "cursor.executescript('''\n",
    "    DROP TABLE IF EXISTS PESSOAS;\n",
    "                     \n",
    "    CREATE TABLE IF NOT EXISTS PESSOAS (\n",
    "        ID INTEGER PRIMARY KEY,\n",
    "        NOME TEXT NOT NULL\n",
    "    );\n",
    "''')\n",
    "\n",
    "conexao.commit()"
   ]
  },
  {
   "cell_type": "code",
   "execution_count": null,
   "id": "dafa576f",
   "metadata": {},
   "outputs": [
    {
     "name": "stdout",
     "output_type": "stream",
     "text": [
      "1\n",
      "1\n"
     ]
    }
   ],
   "source": [
    "cursor.execute(\"INSERT INTO PESSOAS (NOME) VALUES ('JOAO');\")\n",
    "conexao.commit()\n",
    "print(conexao.total_changes)"
   ]
  }
 ],
 "metadata": {
  "kernelspec": {
   "display_name": ".venv",
   "language": "python",
   "name": "python3"
  },
  "language_info": {
   "codemirror_mode": {
    "name": "ipython",
    "version": 3
   },
   "file_extension": ".py",
   "mimetype": "text/x-python",
   "name": "python",
   "nbconvert_exporter": "python",
   "pygments_lexer": "ipython3",
   "version": "3.13.3"
  }
 },
 "nbformat": 4,
 "nbformat_minor": 5
}
