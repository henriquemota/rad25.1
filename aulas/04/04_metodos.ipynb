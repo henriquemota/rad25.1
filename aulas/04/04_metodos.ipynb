{
 "cells": [
  {
   "cell_type": "code",
   "execution_count": 1,
   "id": "d52c16d2",
   "metadata": {},
   "outputs": [],
   "source": [
    "import sqlite3 as driver"
   ]
  },
  {
   "cell_type": "code",
   "execution_count": 7,
   "id": "1fe79be9",
   "metadata": {},
   "outputs": [],
   "source": [
    "def executar(script: str, params: tuple | None = None):\n",
    "    \"\"\"Executa um script SQL de forma genérica com parâmetros opcionais.\"\"\"\n",
    "    with driver.connect(\"data/database.db\") as conexao:\n",
    "        cursor = conexao.cursor()\n",
    "        cursor.execute(script, params) if params else cursor.execute(script)\n",
    "        conexao.commit()"
   ]
  },
  {
   "cell_type": "code",
   "execution_count": 10,
   "id": "1e8abc2e",
   "metadata": {},
   "outputs": [],
   "source": [
    "executar(\"delete from pessoas;\")"
   ]
  },
  {
   "cell_type": "code",
   "execution_count": 11,
   "id": "bfd05d6d",
   "metadata": {},
   "outputs": [],
   "source": [
    "executar( \"insert into pessoas (nome) values (?)\" , (\"henrique\",))"
   ]
  }
 ],
 "metadata": {
  "kernelspec": {
   "display_name": ".venv",
   "language": "python",
   "name": "python3"
  },
  "language_info": {
   "codemirror_mode": {
    "name": "ipython",
    "version": 3
   },
   "file_extension": ".py",
   "mimetype": "text/x-python",
   "name": "python",
   "nbconvert_exporter": "python",
   "pygments_lexer": "ipython3",
   "version": "3.13.3"
  }
 },
 "nbformat": 4,
 "nbformat_minor": 5
}
