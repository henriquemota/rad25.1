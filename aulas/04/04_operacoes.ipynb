{
 "cells": [
  {
   "cell_type": "code",
   "execution_count": 1,
   "id": "40805626",
   "metadata": {},
   "outputs": [],
   "source": [
    "import sqlite3 as driver"
   ]
  },
  {
   "cell_type": "code",
   "execution_count": null,
   "id": "9453f881",
   "metadata": {},
   "outputs": [],
   "source": [
    "# ddl - data definition language\n",
    "with driver.connect(\"data/database.db\") as conexao:\n",
    "    cursor = conexao.cursor()\n",
    "    cursor.executescript(\"\"\"\n",
    "    create table if not exists pessoas (\n",
    "        id integer primary key autoincrement,\n",
    "        nome text not null\n",
    "    );\n",
    "    \"\"\")"
   ]
  },
  {
   "cell_type": "code",
   "execution_count": null,
   "id": "cbd9c876",
   "metadata": {},
   "outputs": [],
   "source": [
    "# dml - data manipulation language\n",
    "with driver.connect(\"data/database.db\") as conexao:\n",
    "    cursor = conexao.cursor()\n",
    "    cursor.execute(\"insert into pessoas (nome) values (?);\", ('Henrique Mota',))\n",
    "    #nome = 'henrique mota'\n",
    "    #cursor.execute(f\"insert into pessoas (nome) values ('{nome}');\")\n"
   ]
  },
  {
   "cell_type": "code",
   "execution_count": 16,
   "id": "1e97a6fe",
   "metadata": {},
   "outputs": [],
   "source": [
    "# ddl - data definition language\n",
    "with driver.connect(\"data/database.db\") as conexao:\n",
    "    cursor = conexao.cursor()\n",
    "    cursor.execute(\"alter table pessoas add column salario real;\")\n"
   ]
  },
  {
   "cell_type": "code",
   "execution_count": 14,
   "id": "a353b4a5",
   "metadata": {},
   "outputs": [],
   "source": [
    "with driver.connect(\"data/database.db\") as conexao:\n",
    "    cursor = conexao.cursor()\n",
    "    cursor.execute(\"update pessoas set salario = ?;\", (650.0,))\n"
   ]
  },
  {
   "cell_type": "code",
   "execution_count": null,
   "id": "77446d5d",
   "metadata": {},
   "outputs": [],
   "source": [
    "# ddl - data definition language\n",
    "with driver.connect(\"data/database.db\") as conexao:\n",
    "    cursor = conexao.cursor()\n",
    "    cursor.execute(\"alter table pessoas drop column salario;\")\n",
    "    "
   ]
  }
 ],
 "metadata": {
  "kernelspec": {
   "display_name": ".venv",
   "language": "python",
   "name": "python3"
  },
  "language_info": {
   "codemirror_mode": {
    "name": "ipython",
    "version": 3
   },
   "file_extension": ".py",
   "mimetype": "text/x-python",
   "name": "python",
   "nbconvert_exporter": "python",
   "pygments_lexer": "ipython3",
   "version": "3.13.3"
  }
 },
 "nbformat": 4,
 "nbformat_minor": 5
}
